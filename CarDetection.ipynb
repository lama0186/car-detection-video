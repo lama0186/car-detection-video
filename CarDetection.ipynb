{
 "cells": [
  {
   "cell_type": "code",
   "execution_count": 3,
   "id": "5da68a28-657f-455f-9ba6-6f76b8034a39",
   "metadata": {},
   "outputs": [],
   "source": [
    "import cv2\n",
    "\n",
    "# تحميل نموذج كشف السيارات\n",
    "car_cascade = cv2.CascadeClassifier('cars.xml')\n",
    "\n",
    "# تحميل الفيديو\n",
    "video = cv2.VideoCapture('road.mp4')\n",
    "\n",
    "while True:\n",
    "    # قراءة إطار من الفيديو\n",
    "    ret, frame = video.read()\n",
    "    \n",
    "    if not ret:\n",
    "        break  # انتهاء الفيديو\n",
    "\n",
    "    # تحويل الإطار إلى رمادي\n",
    "    gray = cv2.cvtColor(frame, cv2.COLOR_BGR2GRAY)\n",
    "\n",
    "    # كشف السيارات باستخدام المعاملات المحسّنة\n",
    "    cars = car_cascade.detectMultiScale(\n",
    "        gray,\n",
    "        scaleFactor=1.2,     # يزيد الدقة\n",
    "        minNeighbors=5,      # يقلل التحديدات الخاطئة\n",
    "        minSize=(60, 60)     # يتجاهل الأجسام الصغيرة\n",
    "    )\n",
    "\n",
    "    # رسم مستطيل حول كل سيارة تم التعرف عليها\n",
    "    for (x, y, w, h) in cars:\n",
    "        cv2.rectangle(frame, (x, y), (x + w, y + h), (0, 255, 0), 2)\n",
    "\n",
    "    # عرض الإطار في نافذة\n",
    "    cv2.imshow('Car Detection', frame)\n",
    "\n",
    "    # اضغط 'q' للخروج\n",
    "    if cv2.waitKey(10) & 0xFF == ord('q'):\n",
    "        break\n",
    "\n",
    "# تحرير الموارد\n",
    "video.release()\n",
    "cv2.destroyAllWindows()\n"
   ]
  },
  {
   "cell_type": "code",
   "execution_count": null,
   "id": "74f45b58-6853-4f64-ac90-eb16186a7b57",
   "metadata": {},
   "outputs": [],
   "source": []
  }
 ],
 "metadata": {
  "kernelspec": {
   "display_name": "Python 3 (ipykernel)",
   "language": "python",
   "name": "python3"
  },
  "language_info": {
   "codemirror_mode": {
    "name": "ipython",
    "version": 3
   },
   "file_extension": ".py",
   "mimetype": "text/x-python",
   "name": "python",
   "nbconvert_exporter": "python",
   "pygments_lexer": "ipython3",
   "version": "3.12.4"
  }
 },
 "nbformat": 4,
 "nbformat_minor": 5
}
